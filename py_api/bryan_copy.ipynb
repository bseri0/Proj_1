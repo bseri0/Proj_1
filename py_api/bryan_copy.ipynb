{
 "cells": [
  {
   "cell_type": "code",
   "execution_count": 18,
   "metadata": {},
   "outputs": [],
   "source": [
    "# Dependencies and Setup\n",
    "import matplotlib.pyplot as plt\n",
    "import pandas as pd\n",
    "import numpy as np\n",
    "import requests\n",
    "import time\n",
    "from scipy.stats import linregress\n",
    "\n",
    "# Impor the OpenWeatherMap API key\n",
    "from api_key import key\n",
    "from geoapi import geoapify_key\n",
    "\n",
    "# Import citipy to determine the cities based on latitude and longitude\n",
    "from citipy import citipy\n",
    "\n"
   ]
  },
  {
   "cell_type": "code",
   "execution_count": 36,
   "metadata": {},
   "outputs": [
    {
     "ename": "JSONDecodeError",
     "evalue": "Expecting value: line 1 column 1 (char 0)",
     "output_type": "error",
     "traceback": [
      "\u001b[1;31m---------------------------------------------------------------------------\u001b[0m",
      "\u001b[1;31mJSONDecodeError\u001b[0m                           Traceback (most recent call last)",
      "File \u001b[1;32mc:\\Users\\user\\.conda\\envs\\dev\\lib\\site-packages\\requests\\models.py:971\u001b[0m, in \u001b[0;36mResponse.json\u001b[1;34m(self, **kwargs)\u001b[0m\n\u001b[0;32m    970\u001b[0m \u001b[39mtry\u001b[39;00m:\n\u001b[1;32m--> 971\u001b[0m     \u001b[39mreturn\u001b[39;00m complexjson\u001b[39m.\u001b[39mloads(\u001b[39mself\u001b[39m\u001b[39m.\u001b[39mtext, \u001b[39m*\u001b[39m\u001b[39m*\u001b[39mkwargs)\n\u001b[0;32m    972\u001b[0m \u001b[39mexcept\u001b[39;00m JSONDecodeError \u001b[39mas\u001b[39;00m e:\n\u001b[0;32m    973\u001b[0m     \u001b[39m# Catch JSON-related errors and raise as requests.JSONDecodeError\u001b[39;00m\n\u001b[0;32m    974\u001b[0m     \u001b[39m# This aliases json.JSONDecodeError and simplejson.JSONDecodeError\u001b[39;00m\n",
      "File \u001b[1;32mc:\\Users\\user\\.conda\\envs\\dev\\lib\\json\\__init__.py:346\u001b[0m, in \u001b[0;36mloads\u001b[1;34m(s, cls, object_hook, parse_float, parse_int, parse_constant, object_pairs_hook, **kw)\u001b[0m\n\u001b[0;32m    343\u001b[0m \u001b[39mif\u001b[39;00m (\u001b[39mcls\u001b[39m \u001b[39mis\u001b[39;00m \u001b[39mNone\u001b[39;00m \u001b[39mand\u001b[39;00m object_hook \u001b[39mis\u001b[39;00m \u001b[39mNone\u001b[39;00m \u001b[39mand\u001b[39;00m\n\u001b[0;32m    344\u001b[0m         parse_int \u001b[39mis\u001b[39;00m \u001b[39mNone\u001b[39;00m \u001b[39mand\u001b[39;00m parse_float \u001b[39mis\u001b[39;00m \u001b[39mNone\u001b[39;00m \u001b[39mand\u001b[39;00m\n\u001b[0;32m    345\u001b[0m         parse_constant \u001b[39mis\u001b[39;00m \u001b[39mNone\u001b[39;00m \u001b[39mand\u001b[39;00m object_pairs_hook \u001b[39mis\u001b[39;00m \u001b[39mNone\u001b[39;00m \u001b[39mand\u001b[39;00m \u001b[39mnot\u001b[39;00m kw):\n\u001b[1;32m--> 346\u001b[0m     \u001b[39mreturn\u001b[39;00m _default_decoder\u001b[39m.\u001b[39;49mdecode(s)\n\u001b[0;32m    347\u001b[0m \u001b[39mif\u001b[39;00m \u001b[39mcls\u001b[39m \u001b[39mis\u001b[39;00m \u001b[39mNone\u001b[39;00m:\n",
      "File \u001b[1;32mc:\\Users\\user\\.conda\\envs\\dev\\lib\\json\\decoder.py:337\u001b[0m, in \u001b[0;36mJSONDecoder.decode\u001b[1;34m(self, s, _w)\u001b[0m\n\u001b[0;32m    333\u001b[0m \u001b[39m\u001b[39m\u001b[39m\"\"\"Return the Python representation of ``s`` (a ``str`` instance\u001b[39;00m\n\u001b[0;32m    334\u001b[0m \u001b[39mcontaining a JSON document).\u001b[39;00m\n\u001b[0;32m    335\u001b[0m \n\u001b[0;32m    336\u001b[0m \u001b[39m\"\"\"\u001b[39;00m\n\u001b[1;32m--> 337\u001b[0m obj, end \u001b[39m=\u001b[39m \u001b[39mself\u001b[39;49m\u001b[39m.\u001b[39;49mraw_decode(s, idx\u001b[39m=\u001b[39;49m_w(s, \u001b[39m0\u001b[39;49m)\u001b[39m.\u001b[39;49mend())\n\u001b[0;32m    338\u001b[0m end \u001b[39m=\u001b[39m _w(s, end)\u001b[39m.\u001b[39mend()\n",
      "File \u001b[1;32mc:\\Users\\user\\.conda\\envs\\dev\\lib\\json\\decoder.py:355\u001b[0m, in \u001b[0;36mJSONDecoder.raw_decode\u001b[1;34m(self, s, idx)\u001b[0m\n\u001b[0;32m    354\u001b[0m \u001b[39mexcept\u001b[39;00m \u001b[39mStopIteration\u001b[39;00m \u001b[39mas\u001b[39;00m err:\n\u001b[1;32m--> 355\u001b[0m     \u001b[39mraise\u001b[39;00m JSONDecodeError(\u001b[39m\"\u001b[39m\u001b[39mExpecting value\u001b[39m\u001b[39m\"\u001b[39m, s, err\u001b[39m.\u001b[39mvalue) \u001b[39mfrom\u001b[39;00m \u001b[39mNone\u001b[39;00m\n\u001b[0;32m    356\u001b[0m \u001b[39mreturn\u001b[39;00m obj, end\n",
      "\u001b[1;31mJSONDecodeError\u001b[0m: Expecting value: line 1 column 1 (char 0)",
      "\nDuring handling of the above exception, another exception occurred:\n",
      "\u001b[1;31mJSONDecodeError\u001b[0m                           Traceback (most recent call last)",
      "\u001b[1;32mc:\\Users\\user\\OneDrive\\Desktop\\files_apps\\RU-PSEG-dsbc\\Proj_1\\py_api\\bryan_copy.ipynb Cell 2\u001b[0m line \u001b[0;36m1\n\u001b[0;32m     <a href='vscode-notebook-cell:/c%3A/Users/user/OneDrive/Desktop/files_apps/RU-PSEG-dsbc/Proj_1/py_api/bryan_copy.ipynb#W1sZmlsZQ%3D%3D?line=15'>16</a>\u001b[0m test\n\u001b[0;32m     <a href='vscode-notebook-cell:/c%3A/Users/user/OneDrive/Desktop/files_apps/RU-PSEG-dsbc/Proj_1/py_api/bryan_copy.ipynb#W1sZmlsZQ%3D%3D?line=16'>17</a>\u001b[0m response \u001b[39m=\u001b[39m requests\u001b[39m.\u001b[39mget(base_url \u001b[39m+\u001b[39m year \u001b[39m+\u001b[39m data_name \u001b[39m+\u001b[39m qry \u001b[39m+\u001b[39m key)\n\u001b[1;32m---> <a href='vscode-notebook-cell:/c%3A/Users/user/OneDrive/Desktop/files_apps/RU-PSEG-dsbc/Proj_1/py_api/bryan_copy.ipynb#W1sZmlsZQ%3D%3D?line=17'>18</a>\u001b[0m result \u001b[39m=\u001b[39m response\u001b[39m.\u001b[39;49mjson()\n\u001b[0;32m     <a href='vscode-notebook-cell:/c%3A/Users/user/OneDrive/Desktop/files_apps/RU-PSEG-dsbc/Proj_1/py_api/bryan_copy.ipynb#W1sZmlsZQ%3D%3D?line=18'>19</a>\u001b[0m \u001b[39mprint\u001b[39m (json\u001b[39m.\u001b[39mdumps(result, indent\u001b[39m=\u001b[39m\u001b[39m4\u001b[39m))\n",
      "File \u001b[1;32mc:\\Users\\user\\.conda\\envs\\dev\\lib\\site-packages\\requests\\models.py:975\u001b[0m, in \u001b[0;36mResponse.json\u001b[1;34m(self, **kwargs)\u001b[0m\n\u001b[0;32m    971\u001b[0m     \u001b[39mreturn\u001b[39;00m complexjson\u001b[39m.\u001b[39mloads(\u001b[39mself\u001b[39m\u001b[39m.\u001b[39mtext, \u001b[39m*\u001b[39m\u001b[39m*\u001b[39mkwargs)\n\u001b[0;32m    972\u001b[0m \u001b[39mexcept\u001b[39;00m JSONDecodeError \u001b[39mas\u001b[39;00m e:\n\u001b[0;32m    973\u001b[0m     \u001b[39m# Catch JSON-related errors and raise as requests.JSONDecodeError\u001b[39;00m\n\u001b[0;32m    974\u001b[0m     \u001b[39m# This aliases json.JSONDecodeError and simplejson.JSONDecodeError\u001b[39;00m\n\u001b[1;32m--> 975\u001b[0m     \u001b[39mraise\u001b[39;00m RequestsJSONDecodeError(e\u001b[39m.\u001b[39mmsg, e\u001b[39m.\u001b[39mdoc, e\u001b[39m.\u001b[39mpos)\n",
      "\u001b[1;31mJSONDecodeError\u001b[0m: Expecting value: line 1 column 1 (char 0)"
     ]
    }
   ],
   "source": [
    "#https://api.census.gov/data/2019/acs/acs5?get=NAME,group(B01003)&for=city:*&key=YOUR_API_KEY\n",
    "\n",
    "import requests\n",
    "import json\n",
    "# Set base URL\n",
    "base_url = \"https://api.census.gov/data\"\n",
    "year = '/2022'\n",
    "data_name = '/acs/acs1/subject'\n",
    "#all of the B02015 table ID data for all states\n",
    "#qry = '?get=group(S1903)&for=place'\n",
    "qry = \"?get=NAME,S1903_C03_001E&for=zip code tabulation area:07003\"\n",
    "key = str('&key='+ key)\n",
    "\n",
    "    # Make an API request using the params dictionary\n",
    "test = str(base_url + year + data_name + qry + key)\n",
    "test\n",
    "response = requests.get(base_url + year + data_name + qry + key)\n",
    "result = response.json()\n",
    "print (json.dumps(result, indent=4))\n"
   ]
  },
  {
   "cell_type": "code",
   "execution_count": 20,
   "metadata": {},
   "outputs": [
    {
     "name": "stdout",
     "output_type": "stream",
     "text": [
      "Data saved to census_data.csv\n"
     ]
    }
   ],
   "source": [
    "#https://www.pgpf.org/blog/2023/11/income-and-wealth-in-the-united-states-an-overview-of-recent-data#:~:text=According%20to%20the%20ASEC%2C%20median,the%20pandemic%20and%20subsequent%20recession.\n",
    "median_income = 74580\n",
    "# Check if the request was successful\n",
    "if response.status_code == 200:\n",
    "    data = response.json()\n",
    "    \n",
    "    # Convert JSON data to DataFrame\n",
    "    df = pd.DataFrame(data[1:], columns=data[0:])\n",
    "    \n",
    "    # Save the DataFrame to a CSV file\n",
    "    df.to_csv(\"../data/census_data.csv\", index=False)\n",
    "    print(\"Data saved to census_data.csv\")\n",
    "else:\n",
    "    print(\"Error:\", response.status_code)"
   ]
  },
  {
   "cell_type": "code",
   "execution_count": 29,
   "metadata": {},
   "outputs": [
    {
     "data": {
      "text/html": [
       "<div>\n",
       "<style scoped>\n",
       "    .dataframe tbody tr th:only-of-type {\n",
       "        vertical-align: middle;\n",
       "    }\n",
       "\n",
       "    .dataframe tbody tr th {\n",
       "        vertical-align: top;\n",
       "    }\n",
       "\n",
       "    .dataframe thead th {\n",
       "        text-align: right;\n",
       "    }\n",
       "</style>\n",
       "<table border=\"1\" class=\"dataframe\">\n",
       "  <thead>\n",
       "    <tr style=\"text-align: right;\">\n",
       "      <th></th>\n",
       "      <th>S1903_C03_001E</th>\n",
       "      <th>state</th>\n",
       "      <th>place</th>\n",
       "      <th>City</th>\n",
       "      <th>State</th>\n",
       "    </tr>\n",
       "  </thead>\n",
       "  <tbody>\n",
       "    <tr>\n",
       "      <th>0</th>\n",
       "      <td>54839</td>\n",
       "      <td>1</td>\n",
       "      <td>3076</td>\n",
       "      <td>Auburn city</td>\n",
       "      <td>Alabama</td>\n",
       "    </tr>\n",
       "    <tr>\n",
       "      <th>1</th>\n",
       "      <td>39326</td>\n",
       "      <td>1</td>\n",
       "      <td>7000</td>\n",
       "      <td>Birmingham city</td>\n",
       "      <td>Alabama</td>\n",
       "    </tr>\n",
       "    <tr>\n",
       "      <th>2</th>\n",
       "      <td>53929</td>\n",
       "      <td>1</td>\n",
       "      <td>21184</td>\n",
       "      <td>Dothan city</td>\n",
       "      <td>Alabama</td>\n",
       "    </tr>\n",
       "    <tr>\n",
       "      <th>3</th>\n",
       "      <td>103194</td>\n",
       "      <td>1</td>\n",
       "      <td>35896</td>\n",
       "      <td>Hoover city</td>\n",
       "      <td>Alabama</td>\n",
       "    </tr>\n",
       "    <tr>\n",
       "      <th>4</th>\n",
       "      <td>68930</td>\n",
       "      <td>1</td>\n",
       "      <td>37000</td>\n",
       "      <td>Huntsville city</td>\n",
       "      <td>Alabama</td>\n",
       "    </tr>\n",
       "  </tbody>\n",
       "</table>\n",
       "</div>"
      ],
      "text/plain": [
       "   S1903_C03_001E  state  place             City    State\n",
       "0           54839      1   3076      Auburn city  Alabama\n",
       "1           39326      1   7000  Birmingham city  Alabama\n",
       "2           53929      1  21184      Dothan city  Alabama\n",
       "3          103194      1  35896      Hoover city  Alabama\n",
       "4           68930      1  37000  Huntsville city  Alabama"
      ]
     },
     "execution_count": 29,
     "metadata": {},
     "output_type": "execute_result"
    }
   ],
   "source": [
    "# Convert the cities weather data into a Pandas DataFrame\n",
    "city_eco_data_df  = pd.read_csv('../data/census_data.csv')\n",
    "\n",
    "# Splitting the 'NAME' column into two columns 'City' and 'State'\n",
    "city_eco_data_df[['City', 'State']] = city_eco_data_df['NAME'].str.split(', ', expand=True)\n",
    "city_eco_data_df.drop(columns=['NAME'], inplace=True)\n",
    "\n",
    "# Show Record Count\n",
    "city_eco_data_df.count()\n",
    "city_eco_data_df.head()"
   ]
  },
  {
   "cell_type": "code",
   "execution_count": 37,
   "metadata": {},
   "outputs": [
    {
     "data": {
      "text/plain": [
       "(      S1903_C03_001E  state  place                    City       State\n",
       " 3             103194      1  35896             Hoover city     Alabama\n",
       " 8             100751      2   3000  Anchorage municipality      Alaska\n",
       " 10             95235      4   7940            Buckeye city     Arizona\n",
       " 11             75650      4  10670        Casas Adobes CDP     Arizona\n",
       " 12             98664      4  12000           Chandler city     Arizona\n",
       " ...              ...    ...    ...                     ...         ...\n",
       " 1269          109848     53  65922          South Hill CDP  Washington\n",
       " 1272           80784     53  70000             Tacoma city  Washington\n",
       " 1273           76799     53  74060          Vancouver city  Washington\n",
       " 1275           75262     55   2375           Appleton city   Wisconsin\n",
       " 1284           74675     55  84250           Waukesha city   Wisconsin\n",
       " \n",
       " [652 rows x 5 columns],\n",
       "       S1903_C03_001E  state  place                  City        State\n",
       " 0              54839      1   3076           Auburn city      Alabama\n",
       " 1              39326      1   7000       Birmingham city      Alabama\n",
       " 2              53929      1  21184           Dothan city      Alabama\n",
       " 4              68930      1  37000       Huntsville city      Alabama\n",
       " 5              50051      1  50000           Mobile city      Alabama\n",
       " ...              ...    ...    ...                   ...          ...\n",
       " 1287           22060     72  10334    Caguas zona urbana  Puerto Rico\n",
       " 1288           36646     72  14290  Carolina zona urbana  Puerto Rico\n",
       " 1289           48081     72  32522  Guaynabo zona urbana  Puerto Rico\n",
       " 1290           16795     72  63820     Ponce zona urbana  Puerto Rico\n",
       " 1291           25928     72  76770  San Juan zona urbana  Puerto Rico\n",
       " \n",
       " [640 rows x 5 columns])"
      ]
     },
     "execution_count": 37,
     "metadata": {},
     "output_type": "execute_result"
    }
   ],
   "source": [
    "## splitting the eco median data into low income and high income..\n",
    "city_eco_data_df = pd.DataFrame(city_eco_data_df)\n",
    "\n",
    "# Splitting the DataFrame into two based on the condition\n",
    "threshold_value = 74580\n",
    "df_above_threshold = city_eco_data_df[city_eco_data_df['S1903_C03_001E'] > threshold_value]\n",
    "df_below_threshold = city_eco_data_df[city_eco_data_df['S1903_C03_001E'] <= threshold_value]\n",
    "\n",
    "df_above_threshold, df_below_threshold\n"
   ]
  },
  {
   "cell_type": "code",
   "execution_count": 38,
   "metadata": {},
   "outputs": [
    {
     "name": "stdout",
     "output_type": "stream",
     "text": [
      "Coordinates of New York: [-74.0060152, 40.7127281]\n"
     ]
    }
   ],
   "source": [
    "def get_coordinates(city_name, api_key):\n",
    "    base_url = \"https://api.geoapify.com/v1/geocode/search\"\n",
    "    params = {\n",
    "        \"text\": city_name,\n",
    "        \"apiKey\": api_key\n",
    "    }\n",
    "\n",
    "    response = requests.get(base_url, params=params)\n",
    "    if response.status_code == 200:\n",
    "        data = response.json()\n",
    "        if data['features']:\n",
    "            # Extracting the first result's coordinates\n",
    "            coordinates = data['features'][0]['geometry']['coordinates']\n",
    "            return coordinates\n",
    "        else:\n",
    "            return \"No results found\"\n",
    "    else:\n",
    "        return \"Error in API request\"\n",
    "\n",
    "# Example usage\n",
    "api_key = geoapify_key # Replace with your actual Geoapify API key\n",
    "city_name = \"New York\"\n",
    "coordinates = get_coordinates(city_name, api_key)\n",
    "print(f\"Coordinates of {city_name}: {coordinates}\")"
   ]
  },
  {
   "cell_type": "markdown",
   "metadata": {},
   "source": [
    "\n",
    "# Empty list to store the response data\n",
    "response_data = []\n",
    "\n",
    "# Iterating over the city names\n",
    "for city in city_eco_data_df['City']:\n",
    "    # Construct the API request URL\n",
    "    url = f\"https://api.geoapify.com/v1/geocode/search?text={city}&apiKey={geoapify_key}\"\n",
    "\n",
    "    # Make the API request\n",
    "    response = requests.get(url)\n",
    "\n",
    "    if response.status_code == 200:\n",
    "        # Parse the JSON response\n",
    "        data = response.json()\n",
    "        # Append the data to the list\n",
    "        response_data.append(data)\n",
    "        print(f\"The data being pulled: {response_data}\")\n",
    "    else:\n",
    "        print(f\"Error fetching data for {city}\")\n",
    "\n",
    "# Creating a DataFrame from the collected data\n",
    "geoapify_df = pd.DataFrame(response_data)\n",
    "\n",
    "# Display the DataFrame\n",
    "print(geoapify_df.head())\n",
    "\n",
    "###########################################################################################\n",
    "\n",
    "\n"
   ]
  },
  {
   "cell_type": "code",
   "execution_count": null,
   "metadata": {},
   "outputs": [],
   "source": [
    "# Join the DataFrames on the city names\n",
    "merged_df = city_eco_data_df.merge(geoapify_df, left_on='NAME', right_on='City')\n",
    "\n",
    "# Splitting the merged DataFrame into two based on the condition\n",
    "threshold_value = 74580\n",
    "df_above_threshold = merged_df[merged_df['S1903_C03_001E'] > threshold_value]\n",
    "df_below_threshold = merged_df[merged_df['S1903_C03_001E'] <= threshold_value]\n",
    "\n",
    "df_above_threshold, df_below_threshold"
   ]
  },
  {
   "cell_type": "code",
   "execution_count": null,
   "metadata": {},
   "outputs": [],
   "source": [
    "#PLACES Search with coords from geocode and census data DFs..       \n",
    "##still in progess\n",
    "\n",
    "radius = 16093.4  # 10 miles in meters\n",
    "\n",
    "# Initialize an empty DataFrame\n",
    "df = pd.DataFrame(columns=[\"City\", \"Commercial Weapons Count\"])\n",
    "\n",
    "# Iterate through each city\n",
    "for city, lat, lon in cities:\n",
    "    params = {\n",
    "        \"apiKey\": geoapify_key,\n",
    "        \"categories\": \"commercial.weapon\",\n",
    "        \"filter\": f\"circle:{lon},{lat},{radius}\",\n",
    "        \"limit\": 1  # Adjust as needed\n",
    "    }\n",
    "    \n",
    "    response = requests.get(\"https://api.geoapify.com/v2/places\", params=params)\n",
    "    \n",
    "    if response.status_code == 200:\n",
    "        data = response.json()\n",
    "        count = len(data['features'])  # Count of commercial weapons\n",
    "        df = df.append({\"City\": city, \"Commercial Weapons Count\": count}, ignore_index=True)\n",
    "    else:\n",
    "        print(f\"Error fetching data for {city}\")\n",
    "\n",
    "# Save the DataFrame to a CSV file\n",
    "df.to_csv(\"city_commercial_weapons.csv\", index=False)\n",
    "\n",
    "print(\"Data saved to city_commercial_weapons.csv\")\n"
   ]
  }
 ],
 "metadata": {
  "kernelspec": {
   "display_name": "dev",
   "language": "python",
   "name": "python3"
  },
  "language_info": {
   "codemirror_mode": {
    "name": "ipython",
    "version": 3
   },
   "file_extension": ".py",
   "mimetype": "text/x-python",
   "name": "python",
   "nbconvert_exporter": "python",
   "pygments_lexer": "ipython3",
   "version": "3.10.13"
  }
 },
 "nbformat": 4,
 "nbformat_minor": 2
}
