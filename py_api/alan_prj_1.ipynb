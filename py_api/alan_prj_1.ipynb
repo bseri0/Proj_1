{
 "cells": [
  {
   "cell_type": "code",
   "execution_count": 3,
   "metadata": {},
   "outputs": [],
   "source": [
    "# Dependencies and Setup\n",
    "import hvplot.pandas as hvplot\n",
    "import pandas as pd\n",
    "import requests\n",
    "import matplotlib.pyplot as plt\n",
    "import numpy as np\n",
    "import time\n",
    "from scipy.stats import linregress\n",
    "\n",
    "# Import API key\n",
    "from alan_api_keys import geoapify_key\n",
    "\n",
    "# Import citipy to determine the cities based on latitude and longitude\n",
    "from citipy import citipy\n",
    "\n"
   ]
  },
  {
   "cell_type": "code",
   "execution_count": 60,
   "metadata": {},
   "outputs": [],
   "source": [
    "# Load the CSV file created in Part 1 into a Pandas DataFrame\n",
    "city_data_df = pd.read_csv(\"../data/census_data.csv\")\n",
    "\n",
    "#Create data frame from Cenus data provided by Bryan\n",
    "df = pd.DataFrame(city_data_df)\n",
    "\n",
    "#selected columns to pull from the main df\n",
    "columns_to_pull = ['NAME', 'place']\n",
    "\n",
    "#pulled selected columns\n",
    "selected_df = df[columns_to_pull]\n",
    "\n",
    "#Split the city and state column\n",
    "city_state_df = df['NAME'].str.split(',', expand=True)\n",
    "\n",
    "#added the place column to the new city state df\n",
    "city_state_df['Places'] = df['place']\n",
    "\n",
    "#full list of cities in the new df\n",
    "city_state_df.columns = ['City/Town', 'State', 'Places']\n",
    "\n",
    "#removed the word'city' from the City/Town Column\n",
    "city_state_df['City/Town'] = city_state_df['City/Town'].str.replace(' city', '', case=False)\n",
    "\n",
    "#removed the word'town' from the City/Town Column\n",
    "city_state_df['City/Town'] = city_state_df['City/Town'].str.replace(' town', '', case=False)\n",
    "\n",
    "#removed the word'town' from the City/Town Column\n",
    "city_state_df['City/Town'] = city_state_df['City/Town'].str.replace(' CDP', '', case=False)\n",
    "# city_state_df['City/Town'] = city_state_df['City/Town'].str.replace(r'\\s*(city|town)\\s*', '', case=False)\n",
    "\n",
    "#Reorderd the columns\n",
    "state_city_df = city_state_df[['State', 'City/Town', 'Places']]\n",
    "\n",
    "state_city_df.head()\n",
    "\n",
    "#exported the cites file from the Census data\n",
    "\n",
    "state_city_df.to_csv('../data/state_cities.csv', index=False)\n",
    "# state_city_df.drop(1, axis=0)\n",
    "# city_state_df['City/Town'].drop_duplicates\n",
    "# city_state_df.head()\n",
    "# state_group_count = city_state_df.groupby(city_state_df['State']).count()\n",
    "# city_state_df.sort_values(by='State')\n"
   ]
  }
 ],
 "metadata": {
  "kernelspec": {
   "display_name": "dev",
   "language": "python",
   "name": "python3"
  },
  "language_info": {
   "codemirror_mode": {
    "name": "ipython",
    "version": 3
   },
   "file_extension": ".py",
   "mimetype": "text/x-python",
   "name": "python",
   "nbconvert_exporter": "python",
   "pygments_lexer": "ipython3",
   "version": "3.11.5"
  }
 },
 "nbformat": 4,
 "nbformat_minor": 2
}
